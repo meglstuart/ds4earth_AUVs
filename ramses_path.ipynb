{
 "cells": [
  {
   "cell_type": "code",
   "execution_count": 2,
   "metadata": {},
   "outputs": [],
   "source": [
    "import pandas as pd\n",
    "from matplotlib import pyplot as plt\n",
    "import numpy as np\n",
    "import datetime"
   ]
  },
  {
   "cell_type": "code",
   "execution_count": 3,
   "metadata": {},
   "outputs": [
    {
     "ename": "FileNotFoundError",
     "evalue": "[Errno 2] No such file or directory: 'ram1.csv'",
     "output_type": "error",
     "traceback": [
      "\u001b[0;31m---------------------------------------------------------------------------\u001b[0m",
      "\u001b[0;31mFileNotFoundError\u001b[0m                         Traceback (most recent call last)",
      "\u001b[0;32m<ipython-input-3-82c1114ad45a>\u001b[0m in \u001b[0;36m<module>\u001b[0;34m\u001b[0m\n\u001b[1;32m      2\u001b[0m \u001b[0;31m#converting them to csvs made it a little more uniform to read the values with pd and manipulate them\u001b[0m\u001b[0;34m\u001b[0m\u001b[0;34m\u001b[0m\u001b[0;34m\u001b[0m\u001b[0m\n\u001b[1;32m      3\u001b[0m ram1 = pd.read_csv('ram1.csv', sep=r'\\s*,\\s*',\n\u001b[0;32m----> 4\u001b[0;31m                            header=0, encoding='ascii', engine='python')\n\u001b[0m\u001b[1;32m      5\u001b[0m \u001b[0mprint\u001b[0m\u001b[0;34m(\u001b[0m\u001b[0mram1\u001b[0m\u001b[0;34m)\u001b[0m\u001b[0;34m\u001b[0m\u001b[0;34m\u001b[0m\u001b[0m\n",
      "\u001b[0;32m~/anaconda3/lib/python3.7/site-packages/pandas/io/parsers.py\u001b[0m in \u001b[0;36mparser_f\u001b[0;34m(filepath_or_buffer, sep, delimiter, header, names, index_col, usecols, squeeze, prefix, mangle_dupe_cols, dtype, engine, converters, true_values, false_values, skipinitialspace, skiprows, skipfooter, nrows, na_values, keep_default_na, na_filter, verbose, skip_blank_lines, parse_dates, infer_datetime_format, keep_date_col, date_parser, dayfirst, iterator, chunksize, compression, thousands, decimal, lineterminator, quotechar, quoting, doublequote, escapechar, comment, encoding, dialect, tupleize_cols, error_bad_lines, warn_bad_lines, delim_whitespace, low_memory, memory_map, float_precision)\u001b[0m\n\u001b[1;32m    700\u001b[0m                     skip_blank_lines=skip_blank_lines)\n\u001b[1;32m    701\u001b[0m \u001b[0;34m\u001b[0m\u001b[0m\n\u001b[0;32m--> 702\u001b[0;31m         \u001b[0;32mreturn\u001b[0m \u001b[0m_read\u001b[0m\u001b[0;34m(\u001b[0m\u001b[0mfilepath_or_buffer\u001b[0m\u001b[0;34m,\u001b[0m \u001b[0mkwds\u001b[0m\u001b[0;34m)\u001b[0m\u001b[0;34m\u001b[0m\u001b[0;34m\u001b[0m\u001b[0m\n\u001b[0m\u001b[1;32m    703\u001b[0m \u001b[0;34m\u001b[0m\u001b[0m\n\u001b[1;32m    704\u001b[0m     \u001b[0mparser_f\u001b[0m\u001b[0;34m.\u001b[0m\u001b[0m__name__\u001b[0m \u001b[0;34m=\u001b[0m \u001b[0mname\u001b[0m\u001b[0;34m\u001b[0m\u001b[0;34m\u001b[0m\u001b[0m\n",
      "\u001b[0;32m~/anaconda3/lib/python3.7/site-packages/pandas/io/parsers.py\u001b[0m in \u001b[0;36m_read\u001b[0;34m(filepath_or_buffer, kwds)\u001b[0m\n\u001b[1;32m    427\u001b[0m \u001b[0;34m\u001b[0m\u001b[0m\n\u001b[1;32m    428\u001b[0m     \u001b[0;31m# Create the parser.\u001b[0m\u001b[0;34m\u001b[0m\u001b[0;34m\u001b[0m\u001b[0;34m\u001b[0m\u001b[0m\n\u001b[0;32m--> 429\u001b[0;31m     \u001b[0mparser\u001b[0m \u001b[0;34m=\u001b[0m \u001b[0mTextFileReader\u001b[0m\u001b[0;34m(\u001b[0m\u001b[0mfilepath_or_buffer\u001b[0m\u001b[0;34m,\u001b[0m \u001b[0;34m**\u001b[0m\u001b[0mkwds\u001b[0m\u001b[0;34m)\u001b[0m\u001b[0;34m\u001b[0m\u001b[0;34m\u001b[0m\u001b[0m\n\u001b[0m\u001b[1;32m    430\u001b[0m \u001b[0;34m\u001b[0m\u001b[0m\n\u001b[1;32m    431\u001b[0m     \u001b[0;32mif\u001b[0m \u001b[0mchunksize\u001b[0m \u001b[0;32mor\u001b[0m \u001b[0miterator\u001b[0m\u001b[0;34m:\u001b[0m\u001b[0;34m\u001b[0m\u001b[0;34m\u001b[0m\u001b[0m\n",
      "\u001b[0;32m~/anaconda3/lib/python3.7/site-packages/pandas/io/parsers.py\u001b[0m in \u001b[0;36m__init__\u001b[0;34m(self, f, engine, **kwds)\u001b[0m\n\u001b[1;32m    893\u001b[0m             \u001b[0mself\u001b[0m\u001b[0;34m.\u001b[0m\u001b[0moptions\u001b[0m\u001b[0;34m[\u001b[0m\u001b[0;34m'has_index_names'\u001b[0m\u001b[0;34m]\u001b[0m \u001b[0;34m=\u001b[0m \u001b[0mkwds\u001b[0m\u001b[0;34m[\u001b[0m\u001b[0;34m'has_index_names'\u001b[0m\u001b[0;34m]\u001b[0m\u001b[0;34m\u001b[0m\u001b[0;34m\u001b[0m\u001b[0m\n\u001b[1;32m    894\u001b[0m \u001b[0;34m\u001b[0m\u001b[0m\n\u001b[0;32m--> 895\u001b[0;31m         \u001b[0mself\u001b[0m\u001b[0;34m.\u001b[0m\u001b[0m_make_engine\u001b[0m\u001b[0;34m(\u001b[0m\u001b[0mself\u001b[0m\u001b[0;34m.\u001b[0m\u001b[0mengine\u001b[0m\u001b[0;34m)\u001b[0m\u001b[0;34m\u001b[0m\u001b[0;34m\u001b[0m\u001b[0m\n\u001b[0m\u001b[1;32m    896\u001b[0m \u001b[0;34m\u001b[0m\u001b[0m\n\u001b[1;32m    897\u001b[0m     \u001b[0;32mdef\u001b[0m \u001b[0mclose\u001b[0m\u001b[0;34m(\u001b[0m\u001b[0mself\u001b[0m\u001b[0;34m)\u001b[0m\u001b[0;34m:\u001b[0m\u001b[0;34m\u001b[0m\u001b[0;34m\u001b[0m\u001b[0m\n",
      "\u001b[0;32m~/anaconda3/lib/python3.7/site-packages/pandas/io/parsers.py\u001b[0m in \u001b[0;36m_make_engine\u001b[0;34m(self, engine)\u001b[0m\n\u001b[1;32m   1130\u001b[0m                                  ' \"c\", \"python\", or' ' \"python-fwf\")'.format(\n\u001b[1;32m   1131\u001b[0m                                      engine=engine))\n\u001b[0;32m-> 1132\u001b[0;31m             \u001b[0mself\u001b[0m\u001b[0;34m.\u001b[0m\u001b[0m_engine\u001b[0m \u001b[0;34m=\u001b[0m \u001b[0mklass\u001b[0m\u001b[0;34m(\u001b[0m\u001b[0mself\u001b[0m\u001b[0;34m.\u001b[0m\u001b[0mf\u001b[0m\u001b[0;34m,\u001b[0m \u001b[0;34m**\u001b[0m\u001b[0mself\u001b[0m\u001b[0;34m.\u001b[0m\u001b[0moptions\u001b[0m\u001b[0;34m)\u001b[0m\u001b[0;34m\u001b[0m\u001b[0;34m\u001b[0m\u001b[0m\n\u001b[0m\u001b[1;32m   1133\u001b[0m \u001b[0;34m\u001b[0m\u001b[0m\n\u001b[1;32m   1134\u001b[0m     \u001b[0;32mdef\u001b[0m \u001b[0m_failover_to_python\u001b[0m\u001b[0;34m(\u001b[0m\u001b[0mself\u001b[0m\u001b[0;34m)\u001b[0m\u001b[0;34m:\u001b[0m\u001b[0;34m\u001b[0m\u001b[0;34m\u001b[0m\u001b[0m\n",
      "\u001b[0;32m~/anaconda3/lib/python3.7/site-packages/pandas/io/parsers.py\u001b[0m in \u001b[0;36m__init__\u001b[0;34m(self, f, **kwds)\u001b[0m\n\u001b[1;32m   2223\u001b[0m         f, handles = _get_handle(f, mode, encoding=self.encoding,\n\u001b[1;32m   2224\u001b[0m                                  \u001b[0mcompression\u001b[0m\u001b[0;34m=\u001b[0m\u001b[0mself\u001b[0m\u001b[0;34m.\u001b[0m\u001b[0mcompression\u001b[0m\u001b[0;34m,\u001b[0m\u001b[0;34m\u001b[0m\u001b[0;34m\u001b[0m\u001b[0m\n\u001b[0;32m-> 2225\u001b[0;31m                                  memory_map=self.memory_map)\n\u001b[0m\u001b[1;32m   2226\u001b[0m         \u001b[0mself\u001b[0m\u001b[0;34m.\u001b[0m\u001b[0mhandles\u001b[0m\u001b[0;34m.\u001b[0m\u001b[0mextend\u001b[0m\u001b[0;34m(\u001b[0m\u001b[0mhandles\u001b[0m\u001b[0;34m)\u001b[0m\u001b[0;34m\u001b[0m\u001b[0;34m\u001b[0m\u001b[0m\n\u001b[1;32m   2227\u001b[0m \u001b[0;34m\u001b[0m\u001b[0m\n",
      "\u001b[0;32m~/anaconda3/lib/python3.7/site-packages/pandas/io/common.py\u001b[0m in \u001b[0;36m_get_handle\u001b[0;34m(path_or_buf, mode, encoding, compression, memory_map, is_text)\u001b[0m\n\u001b[1;32m    422\u001b[0m         \u001b[0;32melif\u001b[0m \u001b[0mencoding\u001b[0m\u001b[0;34m:\u001b[0m\u001b[0;34m\u001b[0m\u001b[0;34m\u001b[0m\u001b[0m\n\u001b[1;32m    423\u001b[0m             \u001b[0;31m# Python 3 and encoding\u001b[0m\u001b[0;34m\u001b[0m\u001b[0;34m\u001b[0m\u001b[0;34m\u001b[0m\u001b[0m\n\u001b[0;32m--> 424\u001b[0;31m             \u001b[0mf\u001b[0m \u001b[0;34m=\u001b[0m \u001b[0mopen\u001b[0m\u001b[0;34m(\u001b[0m\u001b[0mpath_or_buf\u001b[0m\u001b[0;34m,\u001b[0m \u001b[0mmode\u001b[0m\u001b[0;34m,\u001b[0m \u001b[0mencoding\u001b[0m\u001b[0;34m=\u001b[0m\u001b[0mencoding\u001b[0m\u001b[0;34m,\u001b[0m \u001b[0mnewline\u001b[0m\u001b[0;34m=\u001b[0m\u001b[0;34m\"\"\u001b[0m\u001b[0;34m)\u001b[0m\u001b[0;34m\u001b[0m\u001b[0;34m\u001b[0m\u001b[0m\n\u001b[0m\u001b[1;32m    425\u001b[0m         \u001b[0;32melif\u001b[0m \u001b[0mis_text\u001b[0m\u001b[0;34m:\u001b[0m\u001b[0;34m\u001b[0m\u001b[0;34m\u001b[0m\u001b[0m\n\u001b[1;32m    426\u001b[0m             \u001b[0;31m# Python 3 and no explicit encoding\u001b[0m\u001b[0;34m\u001b[0m\u001b[0;34m\u001b[0m\u001b[0;34m\u001b[0m\u001b[0m\n",
      "\u001b[0;31mFileNotFoundError\u001b[0m: [Errno 2] No such file or directory: 'ram1.csv'"
     ]
    }
   ],
   "source": [
    "#the glider surfacing positions were originally stored as .dat files that approximated a space separated values lists\n",
    "#converting them to csvs made it a little more uniform to read the values with pd and manipulate them\n",
    "ram1 = pd.read_csv('ram1.csv', sep=r'\\s*,\\s*',\n",
    "                           header=0, encoding='ascii', engine='python')\n",
    "print(ram1)"
   ]
  },
  {
   "cell_type": "code",
   "execution_count": 9,
   "metadata": {},
   "outputs": [],
   "source": [
    "ram2 = pd.read_csv('ram2.csv', sep=r'\\s*,\\s*',\n",
    "                           header=0, encoding='ascii', engine='python')\n",
    "ram3 = pd.read_csv('ram3.csv', sep=r'\\s*,\\s*',\n",
    "                           header=0, encoding='ascii', engine='python')"
   ]
  },
  {
   "cell_type": "code",
   "execution_count": 10,
   "metadata": {},
   "outputs": [
    {
     "name": "stdout",
     "output_type": "stream",
     "text": [
      "     Latitude  Longitude  Month  Day  Year  Hour  Minute  Second\n",
      "0    3251.030  -7801.253      2   15  2012    20      10      21\n",
      "1    3251.013  -7801.297      2   15  2012    20      12      10\n",
      "2    3250.915  -7801.508      2   15  2012    20      21      25\n",
      "3    3250.800  -7801.749      2   15  2012    20      31      23\n",
      "4    3250.767  -7801.823      2   15  2012    20      35       8\n",
      "..        ...        ...    ...  ...   ...   ...     ...     ...\n",
      "235  3320.459  -7734.591      3   14  2012    16      51       0\n",
      "236  3320.650  -7733.796      3   14  2012    17      24      29\n",
      "237  3320.770  -7733.006      3   14  2012    17      55      32\n",
      "238  3320.802  -7732.165      3   14  2012    18      26      48\n",
      "239  3320.776  -7731.269      3   14  2012    18      57      55\n",
      "\n",
      "[240 rows x 8 columns]\n",
      "     Latitude  Longitude  Month  Day  Year  Hour  Minute  Second\n",
      "0    3256.244  -7805.606      3   16  2012    15      32      15\n",
      "1    3256.269  -7805.572      3   16  2012    15      35      37\n",
      "2    3256.266  -7805.571      3   16  2012    15      36      24\n",
      "3    3256.259  -7805.558      3   16  2012    15      39      40\n",
      "4    3256.247  -7805.551      3   16  2012    15      49      32\n",
      "..        ...        ...    ...  ...   ...   ...     ...     ...\n",
      "123  3249.927  -7805.669      4    3  2012    19      28      21\n",
      "124  3249.922  -7805.912      4    3  2012    19      41       5\n",
      "125  3249.904  -7806.156      4    3  2012    19      54       6\n",
      "126  3249.904  -7806.197      4    3  2012    19      56      32\n",
      "127  3249.849  -7806.677      4    3  2012    20      25      17\n",
      "\n",
      "[128 rows x 8 columns]\n"
     ]
    }
   ],
   "source": [
    "print(ram2)\n",
    "print(ram3)"
   ]
  },
  {
   "cell_type": "code",
   "execution_count": 11,
   "metadata": {},
   "outputs": [
    {
     "name": "stdout",
     "output_type": "stream",
     "text": [
      "Index(['Latitude', 'Longitude', 'Month', 'Day', 'Year', 'Hour', 'Minute',\n",
      "       'Second'],\n",
      "      dtype='object')\n"
     ]
    }
   ],
   "source": [
    "print(ram1.columns)"
   ]
  },
  {
   "cell_type": "code",
   "execution_count": 12,
   "metadata": {},
   "outputs": [
    {
     "name": "stdout",
     "output_type": "stream",
     "text": [
      "     Latitude  Longitude  Month  Day  Year  Hour  Minute  Second  \\\n",
      "0    3256.033  -7806.311      1   25  2012    16      55       6   \n",
      "1    3255.791  -7806.463      1   25  2012    17      22      52   \n",
      "2    3255.762  -7806.473      1   25  2012    17      27      42   \n",
      "3    3255.751  -7806.473      1   25  2012    17      30      24   \n",
      "4    3255.680  -7806.465      1   25  2012    17      42       3   \n",
      "..        ...        ...    ...  ...   ...   ...     ...     ...   \n",
      "248  3228.964  -7845.053      2   14  2012    11      43      44   \n",
      "249  3228.957  -7845.031      2   14  2012    11      57       5   \n",
      "250  3228.606  -7844.822      2   14  2012    12      36       5   \n",
      "251  3228.553  -7844.787      2   14  2012    12      54      15   \n",
      "252  3228.288  -7844.741      2   14  2012    13      28      46   \n",
      "\n",
      "                   Time  \n",
      "0   2012-01-25 16:55:06  \n",
      "1   2012-01-25 17:22:52  \n",
      "2   2012-01-25 17:27:42  \n",
      "3   2012-01-25 17:30:24  \n",
      "4   2012-01-25 17:42:03  \n",
      "..                  ...  \n",
      "248 2012-02-14 11:43:44  \n",
      "249 2012-02-14 11:57:05  \n",
      "250 2012-02-14 12:36:05  \n",
      "251 2012-02-14 12:54:15  \n",
      "252 2012-02-14 13:28:46  \n",
      "\n",
      "[253 rows x 9 columns]\n"
     ]
    }
   ],
   "source": [
    "#I thought converting these 6 columns to a single datetime would make it easy to compare and order the data\n",
    "#but it was already organized in time order, so it wasn't necessary this time\n",
    "ram1['Time'] = pd.to_datetime(ram1[['Year', 'Month', 'Day', 'Hour', 'Minute', 'Second']])\n",
    "print(ram1)"
   ]
  },
  {
   "cell_type": "code",
   "execution_count": 13,
   "metadata": {},
   "outputs": [
    {
     "data": {
      "text/html": [
       "<div>\n",
       "<style scoped>\n",
       "    .dataframe tbody tr th:only-of-type {\n",
       "        vertical-align: middle;\n",
       "    }\n",
       "\n",
       "    .dataframe tbody tr th {\n",
       "        vertical-align: top;\n",
       "    }\n",
       "\n",
       "    .dataframe thead th {\n",
       "        text-align: right;\n",
       "    }\n",
       "</style>\n",
       "<table border=\"1\" class=\"dataframe\">\n",
       "  <thead>\n",
       "    <tr style=\"text-align: right;\">\n",
       "      <th></th>\n",
       "      <th>Latitude</th>\n",
       "      <th>Longitude</th>\n",
       "      <th>Time</th>\n",
       "    </tr>\n",
       "  </thead>\n",
       "  <tbody>\n",
       "    <tr>\n",
       "      <th>0</th>\n",
       "      <td>3256.033</td>\n",
       "      <td>-7806.311</td>\n",
       "      <td>2012-01-25 16:55:06</td>\n",
       "    </tr>\n",
       "    <tr>\n",
       "      <th>1</th>\n",
       "      <td>3255.791</td>\n",
       "      <td>-7806.463</td>\n",
       "      <td>2012-01-25 17:22:52</td>\n",
       "    </tr>\n",
       "    <tr>\n",
       "      <th>2</th>\n",
       "      <td>3255.762</td>\n",
       "      <td>-7806.473</td>\n",
       "      <td>2012-01-25 17:27:42</td>\n",
       "    </tr>\n",
       "    <tr>\n",
       "      <th>3</th>\n",
       "      <td>3255.751</td>\n",
       "      <td>-7806.473</td>\n",
       "      <td>2012-01-25 17:30:24</td>\n",
       "    </tr>\n",
       "    <tr>\n",
       "      <th>4</th>\n",
       "      <td>3255.680</td>\n",
       "      <td>-7806.465</td>\n",
       "      <td>2012-01-25 17:42:03</td>\n",
       "    </tr>\n",
       "    <tr>\n",
       "      <th>...</th>\n",
       "      <td>...</td>\n",
       "      <td>...</td>\n",
       "      <td>...</td>\n",
       "    </tr>\n",
       "    <tr>\n",
       "      <th>248</th>\n",
       "      <td>3228.964</td>\n",
       "      <td>-7845.053</td>\n",
       "      <td>2012-02-14 11:43:44</td>\n",
       "    </tr>\n",
       "    <tr>\n",
       "      <th>249</th>\n",
       "      <td>3228.957</td>\n",
       "      <td>-7845.031</td>\n",
       "      <td>2012-02-14 11:57:05</td>\n",
       "    </tr>\n",
       "    <tr>\n",
       "      <th>250</th>\n",
       "      <td>3228.606</td>\n",
       "      <td>-7844.822</td>\n",
       "      <td>2012-02-14 12:36:05</td>\n",
       "    </tr>\n",
       "    <tr>\n",
       "      <th>251</th>\n",
       "      <td>3228.553</td>\n",
       "      <td>-7844.787</td>\n",
       "      <td>2012-02-14 12:54:15</td>\n",
       "    </tr>\n",
       "    <tr>\n",
       "      <th>252</th>\n",
       "      <td>3228.288</td>\n",
       "      <td>-7844.741</td>\n",
       "      <td>2012-02-14 13:28:46</td>\n",
       "    </tr>\n",
       "  </tbody>\n",
       "</table>\n",
       "<p>253 rows × 3 columns</p>\n",
       "</div>"
      ],
      "text/plain": [
       "     Latitude  Longitude                Time\n",
       "0    3256.033  -7806.311 2012-01-25 16:55:06\n",
       "1    3255.791  -7806.463 2012-01-25 17:22:52\n",
       "2    3255.762  -7806.473 2012-01-25 17:27:42\n",
       "3    3255.751  -7806.473 2012-01-25 17:30:24\n",
       "4    3255.680  -7806.465 2012-01-25 17:42:03\n",
       "..        ...        ...                 ...\n",
       "248  3228.964  -7845.053 2012-02-14 11:43:44\n",
       "249  3228.957  -7845.031 2012-02-14 11:57:05\n",
       "250  3228.606  -7844.822 2012-02-14 12:36:05\n",
       "251  3228.553  -7844.787 2012-02-14 12:54:15\n",
       "252  3228.288  -7844.741 2012-02-14 13:28:46\n",
       "\n",
       "[253 rows x 3 columns]"
      ]
     },
     "execution_count": 13,
     "metadata": {},
     "output_type": "execute_result"
    }
   ],
   "source": [
    "ram1.drop(['Year', 'Month', 'Day', 'Hour', 'Minute', 'Second'], axis=1) "
   ]
  },
  {
   "cell_type": "code",
   "execution_count": 14,
   "metadata": {},
   "outputs": [
    {
     "data": {
      "text/html": [
       "<div>\n",
       "<style scoped>\n",
       "    .dataframe tbody tr th:only-of-type {\n",
       "        vertical-align: middle;\n",
       "    }\n",
       "\n",
       "    .dataframe tbody tr th {\n",
       "        vertical-align: top;\n",
       "    }\n",
       "\n",
       "    .dataframe thead th {\n",
       "        text-align: right;\n",
       "    }\n",
       "</style>\n",
       "<table border=\"1\" class=\"dataframe\">\n",
       "  <thead>\n",
       "    <tr style=\"text-align: right;\">\n",
       "      <th></th>\n",
       "      <th>Latitude</th>\n",
       "      <th>Longitude</th>\n",
       "      <th>Time</th>\n",
       "    </tr>\n",
       "  </thead>\n",
       "  <tbody>\n",
       "    <tr>\n",
       "      <th>0</th>\n",
       "      <td>3256.244</td>\n",
       "      <td>-7805.606</td>\n",
       "      <td>2012-03-16 15:32:15</td>\n",
       "    </tr>\n",
       "    <tr>\n",
       "      <th>1</th>\n",
       "      <td>3256.269</td>\n",
       "      <td>-7805.572</td>\n",
       "      <td>2012-03-16 15:35:37</td>\n",
       "    </tr>\n",
       "    <tr>\n",
       "      <th>2</th>\n",
       "      <td>3256.266</td>\n",
       "      <td>-7805.571</td>\n",
       "      <td>2012-03-16 15:36:24</td>\n",
       "    </tr>\n",
       "    <tr>\n",
       "      <th>3</th>\n",
       "      <td>3256.259</td>\n",
       "      <td>-7805.558</td>\n",
       "      <td>2012-03-16 15:39:40</td>\n",
       "    </tr>\n",
       "    <tr>\n",
       "      <th>4</th>\n",
       "      <td>3256.247</td>\n",
       "      <td>-7805.551</td>\n",
       "      <td>2012-03-16 15:49:32</td>\n",
       "    </tr>\n",
       "    <tr>\n",
       "      <th>...</th>\n",
       "      <td>...</td>\n",
       "      <td>...</td>\n",
       "      <td>...</td>\n",
       "    </tr>\n",
       "    <tr>\n",
       "      <th>123</th>\n",
       "      <td>3249.927</td>\n",
       "      <td>-7805.669</td>\n",
       "      <td>2012-04-03 19:28:21</td>\n",
       "    </tr>\n",
       "    <tr>\n",
       "      <th>124</th>\n",
       "      <td>3249.922</td>\n",
       "      <td>-7805.912</td>\n",
       "      <td>2012-04-03 19:41:05</td>\n",
       "    </tr>\n",
       "    <tr>\n",
       "      <th>125</th>\n",
       "      <td>3249.904</td>\n",
       "      <td>-7806.156</td>\n",
       "      <td>2012-04-03 19:54:06</td>\n",
       "    </tr>\n",
       "    <tr>\n",
       "      <th>126</th>\n",
       "      <td>3249.904</td>\n",
       "      <td>-7806.197</td>\n",
       "      <td>2012-04-03 19:56:32</td>\n",
       "    </tr>\n",
       "    <tr>\n",
       "      <th>127</th>\n",
       "      <td>3249.849</td>\n",
       "      <td>-7806.677</td>\n",
       "      <td>2012-04-03 20:25:17</td>\n",
       "    </tr>\n",
       "  </tbody>\n",
       "</table>\n",
       "<p>128 rows × 3 columns</p>\n",
       "</div>"
      ],
      "text/plain": [
       "     Latitude  Longitude                Time\n",
       "0    3256.244  -7805.606 2012-03-16 15:32:15\n",
       "1    3256.269  -7805.572 2012-03-16 15:35:37\n",
       "2    3256.266  -7805.571 2012-03-16 15:36:24\n",
       "3    3256.259  -7805.558 2012-03-16 15:39:40\n",
       "4    3256.247  -7805.551 2012-03-16 15:49:32\n",
       "..        ...        ...                 ...\n",
       "123  3249.927  -7805.669 2012-04-03 19:28:21\n",
       "124  3249.922  -7805.912 2012-04-03 19:41:05\n",
       "125  3249.904  -7806.156 2012-04-03 19:54:06\n",
       "126  3249.904  -7806.197 2012-04-03 19:56:32\n",
       "127  3249.849  -7806.677 2012-04-03 20:25:17\n",
       "\n",
       "[128 rows x 3 columns]"
      ]
     },
     "execution_count": 14,
     "metadata": {},
     "output_type": "execute_result"
    }
   ],
   "source": [
    "ram2['Time'] = pd.to_datetime(ram2[['Year', 'Month', 'Day', 'Hour', 'Minute', 'Second']])\n",
    "ram3['Time'] = pd.to_datetime(ram3[['Year', 'Month', 'Day', 'Hour', 'Minute', 'Second']])\n",
    "ram2.drop(['Year', 'Month', 'Day', 'Hour', 'Minute', 'Second'], axis=1)\n",
    "ram3.drop(['Year', 'Month', 'Day', 'Hour', 'Minute', 'Second'], axis=1)"
   ]
  },
  {
   "cell_type": "code",
   "execution_count": 15,
   "metadata": {},
   "outputs": [],
   "source": [
    "import matplotlib.pyplot as plt"
   ]
  },
  {
   "cell_type": "code",
   "execution_count": 16,
   "metadata": {},
   "outputs": [
    {
     "name": "stdout",
     "output_type": "stream",
     "text": [
      "-7759.635\n"
     ]
    }
   ],
   "source": [
    "max_long = ram1['Longitude'].max()\n",
    "print(max_long)"
   ]
  },
  {
   "cell_type": "code",
   "execution_count": 17,
   "metadata": {},
   "outputs": [
    {
     "name": "stdout",
     "output_type": "stream",
     "text": [
      "(3220.515, 3256.033, -7845.053000000001, -7759.635)\n"
     ]
    }
   ],
   "source": [
    "boundaries = (ram1['Latitude'].min(), ram1['Latitude'].max(), ram1['Longitude'].min(), ram1['Longitude'].max())\n",
    "print(boundaries)\n",
    "#did this at first so that we could plot the data on a shapefile of the nearby coastline\n",
    "#the paths are far enough offshore I decided it wasn't worth the effort at this time"
   ]
  },
  {
   "cell_type": "code",
   "execution_count": 18,
   "metadata": {},
   "outputs": [
    {
     "data": {
      "image/png": "[encoded data removed]",
      "text/plain": [
       "<Figure size 432x288 with 1 Axes>"
      ]
     },
     "metadata": {
      "needs_background": "light"
     },
     "output_type": "display_data"
    }
   ],
   "source": [
    "plt.plot(ram1['Longitude'], ram1['Latitude'], '-o')\n",
    "plt.show()"
   ]
  },
  {
   "cell_type": "code",
   "execution_count": 19,
   "metadata": {},
   "outputs": [
    {
     "data": {
      "image/png": "[encoded data removed]",
      "text/plain": [
       "<Figure size 432x288 with 1 Axes>"
      ]
     },
     "metadata": {
      "needs_background": "light"
     },
     "output_type": "display_data"
    }
   ],
   "source": [
    "#Other than a couple of little outlier points, the route that the glider took is pretty clear here\n",
    "#I'm going to plot the other two legs of the trip and see if they look similar\n",
    "plt.plot(ram2['Longitude'], ram2['Latitude'], '-o')\n",
    "plt.show()"
   ]
  },
  {
   "cell_type": "code",
   "execution_count": 20,
   "metadata": {},
   "outputs": [
    {
     "data": {
      "image/png": "[encoded data removed]",
      "text/plain": [
       "<Figure size 432x288 with 1 Axes>"
      ]
     },
     "metadata": {
      "needs_background": "light"
     },
     "output_type": "display_data"
    }
   ],
   "source": [
    "plt.plot(ram3['Longitude'], ram3['Latitude'], '-o')\n",
    "plt.show()"
   ]
  },
  {
   "cell_type": "code",
   "execution_count": 21,
   "metadata": {},
   "outputs": [],
   "source": [
    "#We don't know how this glider was planned to move around in this project yet, \n",
    "#but these initial paths don't seem horribly efficient\n",
    "#all of them end up doing a bit of zig-zagging back and forth a bit. it may have a purpose, but I'm not sure what\n"
   ]
  },
  {
   "cell_type": "code",
   "execution_count": 22,
   "metadata": {},
   "outputs": [
    {
     "data": {
      "image/png": "[encoded data removed]",
      "text/plain": [
       "<Figure size 432x288 with 1 Axes>"
      ]
     },
     "metadata": {
      "needs_background": "light"
     },
     "output_type": "display_data"
    }
   ],
   "source": [
    "#just for fun, I'm going to combine and plot all of them at once\n",
    "ram = ram1.append(ram2.append(ram3))\n",
    "plt.plot(ram['Longitude'], ram['Latitude'], '')\n",
    "plt.show()"
   ]
  },
  {
   "cell_type": "code",
   "execution_count": 35,
   "metadata": {},
   "outputs": [],
   "source": [
    "#the Ramses glider didn't have the same issue as the Pelagia glider did where there was a week of no data\n",
    "#but it still has some spots where it moved pretty large distances between surfacing,\n",
    "#as shown by the long straight lines on the path\n",
    "#the second leg of the trip is a very odd shape. It looks almost like the glider was trying to cirumvent some obstacles"
   ]
  },
  {
   "cell_type": "code",
   "execution_count": null,
   "metadata": {},
   "outputs": [],
   "source": []
  }
 ],
 "metadata": {
  "kernelspec": {
   "display_name": "Python 3",
   "language": "python",
   "name": "python3"
  },
  "language_info": {
   "codemirror_mode": {
    "name": "ipython",
    "version": 3
   },
   "file_extension": ".py",
   "mimetype": "text/x-python",
   "name": "python",
   "nbconvert_exporter": "python",
   "pygments_lexer": "ipython3",
   "version": "3.7.3"
  }
 },
 "nbformat": 4,
 "nbformat_minor": 4
}
