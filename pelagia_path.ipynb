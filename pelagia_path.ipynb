{
 "cells": [
  {
   "cell_type": "code",
   "execution_count": 2,
   "metadata": {},
   "outputs": [],
   "source": [
    "import pandas as pd\n",
    "from matplotlib import pyplot as plt\n",
    "import numpy as np\n",
    "import datetime"
   ]
  },
  {
   "cell_type": "code",
   "execution_count": 3,
   "metadata": {},
   "outputs": [
    {
     "name": "stdout",
     "output_type": "stream",
     "text": [
      "     Latitude  Longitude  Month  Day  Year  Hour  Minute  Second\n",
      "0    3254.864  -7807.993      1   25  2012    20      39      57\n",
      "1    3254.892  -7808.116      1   25  2012    20      51      22\n",
      "2    3254.926  -7808.214      1   25  2012    21       7      56\n",
      "3    3254.981  -7808.286      1   25  2012    21      22      41\n",
      "4    3255.027  -7808.318      1   25  2012    21      34      15\n",
      "..        ...        ...    ...  ...   ...   ...     ...     ...\n",
      "219  3252.315  -7826.329      2   14  2012    17      14      51\n",
      "220  3252.331  -7826.346      2   14  2012    17      19      44\n",
      "221  3252.419  -7826.344      2   14  2012    17      38      42\n",
      "222  3252.456  -7826.329      2   14  2012    17      50      55\n",
      "223  3252.468  -7826.294      2   14  2012    17      55       0\n",
      "\n",
      "[224 rows x 8 columns]\n"
     ]
    }
   ],
   "source": [
    "#the glider surfacing positions were originally stored as .dat files that approximated a space separated values lists\n",
    "#converting them to csvs made it a little more uniform to read the values with pd and manipulate them\n",
    "pel1 = pd.read_csv('pel1.csv', sep=r'\\s*,\\s*',\n",
    "                           header=0, encoding='ascii', engine='python')\n",
    "print(pel1)"
   ]
  },
  {
   "cell_type": "code",
   "execution_count": 4,
   "metadata": {},
   "outputs": [],
   "source": [
    "pel2 = pd.read_csv('pel2.csv', sep=r'\\s*,\\s*',\n",
    "                           header=0, encoding='ascii', engine='python')\n",
    "pel3 = pd.read_csv('pel3.csv', sep=r'\\s*,\\s*',\n",
    "                           header=0, encoding='ascii', engine='python')"
   ]
  },
  {
   "cell_type": "code",
   "execution_count": 5,
   "metadata": {},
   "outputs": [
    {
     "name": "stdout",
     "output_type": "stream",
     "text": [
      "     Latitude  Longitude  Month  Day  Year  Hour  Minute  Second\n",
      "0    3256.963  -7805.791      2   16  2012    13      45      24\n",
      "1    3256.984  -7805.785      2   16  2012    13      49       0\n",
      "2    3257.022  -7805.760      2   16  2012    13      57      12\n",
      "3    3257.080  -7805.694      2   16  2012    14      15      21\n",
      "4    3257.216  -7805.575      2   16  2012    14      46      34\n",
      "..        ...        ...    ...  ...   ...   ...     ...     ...\n",
      "177  3420.866  -7559.112      3    8  2012    14       3      30\n",
      "178  3421.252  -7558.690      3    8  2012    14      12      56\n",
      "179  3421.576  -7558.328      3    8  2012    14      20      47\n",
      "180  3421.899  -7557.967      3    8  2012    14      28      43\n",
      "181  3422.095  -7557.747      3    8  2012    14      33      32\n",
      "\n",
      "[182 rows x 8 columns]\n",
      "     Latitude  Longitude  Month  Day  Year  Hour  Minute  Second\n",
      "0    3256.429  -7805.830      3   16  2012    12      32      44\n",
      "1    3256.421  -7805.759      3   16  2012    12      56      45\n",
      "2    3256.419  -7805.752      3   16  2012    12      57      21\n",
      "3    3256.420  -7805.727      3   16  2012    13       0      41\n",
      "4    3256.416  -7805.708      3   16  2012    13       2      13\n",
      "..        ...        ...    ...  ...   ...   ...     ...     ...\n",
      "106  3306.008  -7821.341      4    2  2012    20      19      52\n",
      "107  3304.264  -7818.988      4    3  2012     1      22      57\n",
      "108  3304.212  -7819.538      4    3  2012     6      22      37\n",
      "109  3302.409  -7822.664      4    3  2012    18      30      48\n",
      "110  3303.008  -7823.186      4    3  2012    22      35      19\n",
      "\n",
      "[111 rows x 8 columns]\n"
     ]
    }
   ],
   "source": [
    "print(pel2)\n",
    "print(pel3)"
   ]
  },
  {
   "cell_type": "code",
   "execution_count": 6,
   "metadata": {},
   "outputs": [
    {
     "name": "stdout",
     "output_type": "stream",
     "text": [
      "Index(['Latitude', 'Longitude', 'Month', 'Day', 'Year', 'Hour', 'Minute',\n",
      "       'Second'],\n",
      "      dtype='object')\n"
     ]
    }
   ],
   "source": [
    "print(pel1.columns)"
   ]
  },
  {
   "cell_type": "code",
   "execution_count": 8,
   "metadata": {},
   "outputs": [
    {
     "name": "stdout",
     "output_type": "stream",
     "text": [
      "     Latitude  Longitude  Month  Day  Year  Hour  Minute  Second  \\\n",
      "0    3254.864  -7807.993      1   25  2012    20      39      57   \n",
      "1    3254.892  -7808.116      1   25  2012    20      51      22   \n",
      "2    3254.926  -7808.214      1   25  2012    21       7      56   \n",
      "3    3254.981  -7808.286      1   25  2012    21      22      41   \n",
      "4    3255.027  -7808.318      1   25  2012    21      34      15   \n",
      "..        ...        ...    ...  ...   ...   ...     ...     ...   \n",
      "219  3252.315  -7826.329      2   14  2012    17      14      51   \n",
      "220  3252.331  -7826.346      2   14  2012    17      19      44   \n",
      "221  3252.419  -7826.344      2   14  2012    17      38      42   \n",
      "222  3252.456  -7826.329      2   14  2012    17      50      55   \n",
      "223  3252.468  -7826.294      2   14  2012    17      55       0   \n",
      "\n",
      "                   Time  \n",
      "0   2012-01-25 20:39:57  \n",
      "1   2012-01-25 20:51:22  \n",
      "2   2012-01-25 21:07:56  \n",
      "3   2012-01-25 21:22:41  \n",
      "4   2012-01-25 21:34:15  \n",
      "..                  ...  \n",
      "219 2012-02-14 17:14:51  \n",
      "220 2012-02-14 17:19:44  \n",
      "221 2012-02-14 17:38:42  \n",
      "222 2012-02-14 17:50:55  \n",
      "223 2012-02-14 17:55:00  \n",
      "\n",
      "[224 rows x 9 columns]\n"
     ]
    }
   ],
   "source": [
    "#I thought converting these 6 columns to a single datetime would make it easy to compare and order the data\n",
    "#but it was already organized in time order, so it wasn't necessary this time\n",
    "pel1['Time'] = pd.to_datetime(pel1[['Year', 'Month', 'Day', 'Hour', 'Minute', 'Second']])\n",
    "print(pel1)"
   ]
  },
  {
   "cell_type": "code",
   "execution_count": 22,
   "metadata": {},
   "outputs": [
    {
     "data": {
      "text/html": [
       "<div>\n",
       "<style scoped>\n",
       "    .dataframe tbody tr th:only-of-type {\n",
       "        vertical-align: middle;\n",
       "    }\n",
       "\n",
       "    .dataframe tbody tr th {\n",
       "        vertical-align: top;\n",
       "    }\n",
       "\n",
       "    .dataframe thead th {\n",
       "        text-align: right;\n",
       "    }\n",
       "</style>\n",
       "<table border=\"1\" class=\"dataframe\">\n",
       "  <thead>\n",
       "    <tr style=\"text-align: right;\">\n",
       "      <th></th>\n",
       "      <th>Latitude</th>\n",
       "      <th>Longitude</th>\n",
       "      <th>Time</th>\n",
       "    </tr>\n",
       "  </thead>\n",
       "  <tbody>\n",
       "    <tr>\n",
       "      <th>0</th>\n",
       "      <td>3254.864</td>\n",
       "      <td>-7807.993</td>\n",
       "      <td>2012-01-25 20:39:57</td>\n",
       "    </tr>\n",
       "    <tr>\n",
       "      <th>1</th>\n",
       "      <td>3254.892</td>\n",
       "      <td>-7808.116</td>\n",
       "      <td>2012-01-25 20:51:22</td>\n",
       "    </tr>\n",
       "    <tr>\n",
       "      <th>2</th>\n",
       "      <td>3254.926</td>\n",
       "      <td>-7808.214</td>\n",
       "      <td>2012-01-25 21:07:56</td>\n",
       "    </tr>\n",
       "    <tr>\n",
       "      <th>3</th>\n",
       "      <td>3254.981</td>\n",
       "      <td>-7808.286</td>\n",
       "      <td>2012-01-25 21:22:41</td>\n",
       "    </tr>\n",
       "    <tr>\n",
       "      <th>4</th>\n",
       "      <td>3255.027</td>\n",
       "      <td>-7808.318</td>\n",
       "      <td>2012-01-25 21:34:15</td>\n",
       "    </tr>\n",
       "    <tr>\n",
       "      <th>...</th>\n",
       "      <td>...</td>\n",
       "      <td>...</td>\n",
       "      <td>...</td>\n",
       "    </tr>\n",
       "    <tr>\n",
       "      <th>219</th>\n",
       "      <td>3252.315</td>\n",
       "      <td>-7826.329</td>\n",
       "      <td>2012-02-14 17:14:51</td>\n",
       "    </tr>\n",
       "    <tr>\n",
       "      <th>220</th>\n",
       "      <td>3252.331</td>\n",
       "      <td>-7826.346</td>\n",
       "      <td>2012-02-14 17:19:44</td>\n",
       "    </tr>\n",
       "    <tr>\n",
       "      <th>221</th>\n",
       "      <td>3252.419</td>\n",
       "      <td>-7826.344</td>\n",
       "      <td>2012-02-14 17:38:42</td>\n",
       "    </tr>\n",
       "    <tr>\n",
       "      <th>222</th>\n",
       "      <td>3252.456</td>\n",
       "      <td>-7826.329</td>\n",
       "      <td>2012-02-14 17:50:55</td>\n",
       "    </tr>\n",
       "    <tr>\n",
       "      <th>223</th>\n",
       "      <td>3252.468</td>\n",
       "      <td>-7826.294</td>\n",
       "      <td>2012-02-14 17:55:00</td>\n",
       "    </tr>\n",
       "  </tbody>\n",
       "</table>\n",
       "<p>224 rows × 3 columns</p>\n",
       "</div>"
      ],
      "text/plain": [
       "     Latitude  Longitude                Time\n",
       "0    3254.864  -7807.993 2012-01-25 20:39:57\n",
       "1    3254.892  -7808.116 2012-01-25 20:51:22\n",
       "2    3254.926  -7808.214 2012-01-25 21:07:56\n",
       "3    3254.981  -7808.286 2012-01-25 21:22:41\n",
       "4    3255.027  -7808.318 2012-01-25 21:34:15\n",
       "..        ...        ...                 ...\n",
       "219  3252.315  -7826.329 2012-02-14 17:14:51\n",
       "220  3252.331  -7826.346 2012-02-14 17:19:44\n",
       "221  3252.419  -7826.344 2012-02-14 17:38:42\n",
       "222  3252.456  -7826.329 2012-02-14 17:50:55\n",
       "223  3252.468  -7826.294 2012-02-14 17:55:00\n",
       "\n",
       "[224 rows x 3 columns]"
      ]
     },
     "execution_count": 22,
     "metadata": {},
     "output_type": "execute_result"
    }
   ],
   "source": [
    "pel1.drop(['Year', 'Month', 'Day', 'Hour', 'Minute', 'Second'], axis=1) "
   ]
  },
  {
   "cell_type": "code",
   "execution_count": 23,
   "metadata": {},
   "outputs": [
    {
     "data": {
      "text/html": [
       "<div>\n",
       "<style scoped>\n",
       "    .dataframe tbody tr th:only-of-type {\n",
       "        vertical-align: middle;\n",
       "    }\n",
       "\n",
       "    .dataframe tbody tr th {\n",
       "        vertical-align: top;\n",
       "    }\n",
       "\n",
       "    .dataframe thead th {\n",
       "        text-align: right;\n",
       "    }\n",
       "</style>\n",
       "<table border=\"1\" class=\"dataframe\">\n",
       "  <thead>\n",
       "    <tr style=\"text-align: right;\">\n",
       "      <th></th>\n",
       "      <th>Latitude</th>\n",
       "      <th>Longitude</th>\n",
       "      <th>Time</th>\n",
       "    </tr>\n",
       "  </thead>\n",
       "  <tbody>\n",
       "    <tr>\n",
       "      <th>0</th>\n",
       "      <td>3256.429</td>\n",
       "      <td>-7805.830</td>\n",
       "      <td>2012-03-16 12:32:44</td>\n",
       "    </tr>\n",
       "    <tr>\n",
       "      <th>1</th>\n",
       "      <td>3256.421</td>\n",
       "      <td>-7805.759</td>\n",
       "      <td>2012-03-16 12:56:45</td>\n",
       "    </tr>\n",
       "    <tr>\n",
       "      <th>2</th>\n",
       "      <td>3256.419</td>\n",
       "      <td>-7805.752</td>\n",
       "      <td>2012-03-16 12:57:21</td>\n",
       "    </tr>\n",
       "    <tr>\n",
       "      <th>3</th>\n",
       "      <td>3256.420</td>\n",
       "      <td>-7805.727</td>\n",
       "      <td>2012-03-16 13:00:41</td>\n",
       "    </tr>\n",
       "    <tr>\n",
       "      <th>4</th>\n",
       "      <td>3256.416</td>\n",
       "      <td>-7805.708</td>\n",
       "      <td>2012-03-16 13:02:13</td>\n",
       "    </tr>\n",
       "    <tr>\n",
       "      <th>...</th>\n",
       "      <td>...</td>\n",
       "      <td>...</td>\n",
       "      <td>...</td>\n",
       "    </tr>\n",
       "    <tr>\n",
       "      <th>106</th>\n",
       "      <td>3306.008</td>\n",
       "      <td>-7821.341</td>\n",
       "      <td>2012-04-02 20:19:52</td>\n",
       "    </tr>\n",
       "    <tr>\n",
       "      <th>107</th>\n",
       "      <td>3304.264</td>\n",
       "      <td>-7818.988</td>\n",
       "      <td>2012-04-03 01:22:57</td>\n",
       "    </tr>\n",
       "    <tr>\n",
       "      <th>108</th>\n",
       "      <td>3304.212</td>\n",
       "      <td>-7819.538</td>\n",
       "      <td>2012-04-03 06:22:37</td>\n",
       "    </tr>\n",
       "    <tr>\n",
       "      <th>109</th>\n",
       "      <td>3302.409</td>\n",
       "      <td>-7822.664</td>\n",
       "      <td>2012-04-03 18:30:48</td>\n",
       "    </tr>\n",
       "    <tr>\n",
       "      <th>110</th>\n",
       "      <td>3303.008</td>\n",
       "      <td>-7823.186</td>\n",
       "      <td>2012-04-03 22:35:19</td>\n",
       "    </tr>\n",
       "  </tbody>\n",
       "</table>\n",
       "<p>111 rows × 3 columns</p>\n",
       "</div>"
      ],
      "text/plain": [
       "     Latitude  Longitude                Time\n",
       "0    3256.429  -7805.830 2012-03-16 12:32:44\n",
       "1    3256.421  -7805.759 2012-03-16 12:56:45\n",
       "2    3256.419  -7805.752 2012-03-16 12:57:21\n",
       "3    3256.420  -7805.727 2012-03-16 13:00:41\n",
       "4    3256.416  -7805.708 2012-03-16 13:02:13\n",
       "..        ...        ...                 ...\n",
       "106  3306.008  -7821.341 2012-04-02 20:19:52\n",
       "107  3304.264  -7818.988 2012-04-03 01:22:57\n",
       "108  3304.212  -7819.538 2012-04-03 06:22:37\n",
       "109  3302.409  -7822.664 2012-04-03 18:30:48\n",
       "110  3303.008  -7823.186 2012-04-03 22:35:19\n",
       "\n",
       "[111 rows x 3 columns]"
      ]
     },
     "execution_count": 23,
     "metadata": {},
     "output_type": "execute_result"
    }
   ],
   "source": [
    "pel2['Time'] = pd.to_datetime(pel2[['Year', 'Month', 'Day', 'Hour', 'Minute', 'Second']])\n",
    "pel3['Time'] = pd.to_datetime(pel3[['Year', 'Month', 'Day', 'Hour', 'Minute', 'Second']])\n",
    "pel2.drop(['Year', 'Month', 'Day', 'Hour', 'Minute', 'Second'], axis=1)\n",
    "pel3.drop(['Year', 'Month', 'Day', 'Hour', 'Minute', 'Second'], axis=1)"
   ]
  },
  {
   "cell_type": "code",
   "execution_count": 11,
   "metadata": {},
   "outputs": [],
   "source": [
    "import matplotlib.pyplot as plt"
   ]
  },
  {
   "cell_type": "code",
   "execution_count": 12,
   "metadata": {},
   "outputs": [
    {
     "name": "stdout",
     "output_type": "stream",
     "text": [
      "-7754.363\n"
     ]
    }
   ],
   "source": [
    "max_long = pel1['Longitude'].max()\n",
    "print(max_long)"
   ]
  },
  {
   "cell_type": "code",
   "execution_count": 13,
   "metadata": {},
   "outputs": [
    {
     "name": "stdout",
     "output_type": "stream",
     "text": [
      "(3249.0679999999998, 3314.3540000000003, -7829.643, -7754.363)\n"
     ]
    }
   ],
   "source": [
    "boundaries = (pel1['Latitude'].min(), pel1['Latitude'].max(), pel1['Longitude'].min(), pel1['Longitude'].max())\n",
    "print(boundaries)\n",
    "#did this at first so that we could plot the data on a shapefile of the nearby coastline\n",
    "#the paths are far enough offshore I decided it wasn't worth the effort at this time"
   ]
  },
  {
   "cell_type": "code",
   "execution_count": 29,
   "metadata": {},
   "outputs": [
    {
     "data": {
      "image/png": "[encoded data removed]",
      "text/plain": [
       "<Figure size 432x288 with 1 Axes>"
      ]
     },
     "metadata": {
      "needs_background": "light"
     },
     "output_type": "display_data"
    }
   ],
   "source": [
    "plt.plot(pel1['Longitude'], pel1['Latitude'], '-o')\n",
    "plt.show()"
   ]
  },
  {
   "cell_type": "code",
   "execution_count": 31,
   "metadata": {},
   "outputs": [
    {
     "data": {
      "image/png": "[encoded data removed]",
      "text/plain": [
       "<Figure size 432x288 with 1 Axes>"
      ]
     },
     "metadata": {
      "needs_background": "light"
     },
     "output_type": "display_data"
    }
   ],
   "source": [
    "#this doesn't look very good at all. I'm going to plot the other two legs of the trip and see if they look similar\n",
    "plt.plot(pel2['Longitude'], pel2['Latitude'], '-o')\n",
    "plt.show()"
   ]
  },
  {
   "cell_type": "code",
   "execution_count": 32,
   "metadata": {},
   "outputs": [
    {
     "data": {
      "image/png": "[encoded data removed]",
      "text/plain": [
       "<Figure size 432x288 with 1 Axes>"
      ]
     },
     "metadata": {
      "needs_background": "light"
     },
     "output_type": "display_data"
    }
   ],
   "source": [
    "plt.plot(pel3['Longitude'], pel3['Latitude'], '-o')\n",
    "plt.show()"
   ]
  },
  {
   "cell_type": "code",
   "execution_count": 18,
   "metadata": {},
   "outputs": [],
   "source": [
    "#We don't know how this glider was planned to move around in this project yet, \n",
    "#but these initial paths don't seem horribly efficient\n",
    "#all of them end up doing a bit of zig-zagging back and forth a bit. it may have a purpose, but I'm not sure what\n"
   ]
  },
  {
   "cell_type": "code",
   "execution_count": 33,
   "metadata": {},
   "outputs": [
    {
     "data": {
      "image/png": "[encoded data removed]",
      "text/plain": [
       "<Figure size 432x288 with 1 Axes>"
      ]
     },
     "metadata": {
      "needs_background": "light"
     },
     "output_type": "display_data"
    }
   ],
   "source": [
    "#just for fun, I'm going to combine and plot all of them at once\n",
    "pel = pel1.append(pel2.append(pel3))\n",
    "plt.plot(pel['Longitude'], pel['Latitude'], '')\n",
    "plt.show()"
   ]
  },
  {
   "cell_type": "code",
   "execution_count": 35,
   "metadata": {},
   "outputs": [],
   "source": [
    "#With this, I noticed that there's a pretty large gap in the data\n",
    "#between the first two legs of the trip, there are two days where data wasn't collected, so the glider didn't drift far\n",
    "#between the second two legs though, there were eight days where the glider didn't surface\n",
    "#during that time the glider drifted a pretty fair distance back to the South West, \n",
    "#which the graph displays as a long straight line"
   ]
  },
  {
   "cell_type": "code",
   "execution_count": null,
   "metadata": {},
   "outputs": [],
   "source": []
  }
 ],
 "metadata": {
  "kernelspec": {
   "display_name": "Python 3",
   "language": "python",
   "name": "python3"
  },
  "language_info": {
   "codemirror_mode": {
    "name": "ipython",
    "version": 3
   },
   "file_extension": ".py",
   "mimetype": "text/x-python",
   "name": "python",
   "nbconvert_exporter": "python",
   "pygments_lexer": "ipython3",
   "version": "3.7.6"
  }
 },
 "nbformat": 4,
 "nbformat_minor": 4
}
